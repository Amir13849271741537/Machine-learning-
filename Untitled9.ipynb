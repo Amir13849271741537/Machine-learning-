{
  "nbformat": 4,
  "nbformat_minor": 0,
  "metadata": {
    "colab": {
      "provenance": [],
      "include_colab_link": true
    },
    "kernelspec": {
      "name": "python3",
      "display_name": "Python 3"
    },
    "language_info": {
      "name": "python"
    }
  },
  "cells": [
    {
      "cell_type": "markdown",
      "metadata": {
        "id": "view-in-github",
        "colab_type": "text"
      },
      "source": [
        "<a href=\"https://colab.research.google.com/github/Amir13849271741537/Machine-learning-/blob/main/Untitled9.ipynb\" target=\"_parent\"><img src=\"https://colab.research.google.com/assets/colab-badge.svg\" alt=\"Open In Colab\"/></a>"
      ]
    },
    {
      "cell_type": "code",
      "source": [
        "# ==============================\n",
        "# 🪷 تحلیل و مدل‌سازی دیتاست Iris\n",
        "# ==============================\n",
        "\n",
        "# 📦 مرحله 1: نصب و بارگذاری کتابخانه‌ها\n",
        "import pandas as pd\n",
        "import seaborn as sns\n",
        "import matplotlib.pyplot as plt\n",
        "from sklearn.model_selection import train_test_split\n",
        "from sklearn.preprocessing import StandardScaler\n",
        "from sklearn.neighbors import KNeighborsClassifier\n",
        "from sklearn.metrics import accuracy_score, confusion_matrix, classification_report\n",
        "\n",
        "# ==============================\n",
        "# 📊 مرحله 2: بارگذاری دیتاست\n",
        "# ==============================\n",
        "iris = sns.load_dataset('iris')  # دیتاست آماده در Seaborn\n",
        "print(\"✅ چند سطر اول دیتاست:\")\n",
        "print(iris.head())\n",
        "\n",
        "# ==============================\n",
        "# 🔍 مرحله 3: بررسی اطلاعات کلی\n",
        "# ==============================\n",
        "print(\"\\n📋 اطلاعات کلی دیتاست:\")\n",
        "print(iris.info())\n",
        "\n",
        "print(\"\\n📈 خلاصه آماری ویژگی‌ها:\")\n",
        "print(iris.describe())\n",
        "\n",
        "print(\"\\n🔢 تعداد نمونه در هر کلاس:\")\n",
        "print(iris['species'].value_counts())\n",
        "\n",
        "# ==============================\n",
        "# 🎨 مرحله 4: مصورسازی داده‌ها\n",
        "# ==============================\n",
        "\n",
        "# همبستگی بین ویژگی‌ها\n",
        "plt.figure(figsize=(6,5))\n",
        "sns.heatmap(iris.corr(numeric_only=True), annot=True, cmap='coolwarm')\n",
        "plt.title(\"Heatmap - Correlation Between Features\")\n",
        "plt.show()\n",
        "\n",
        "# نمودار پراکندگی (Scatter Plot)\n",
        "sns.scatterplot(data=iris, x='sepal_length', y='petal_length', hue='species', palette='Set2')\n",
        "plt.title(\"Scatter Plot - Sepal Length vs Petal Length\")\n",
        "plt.show()\n",
        "\n",
        "# ==============================\n",
        "# 🤖 مرحله 5: آماده‌سازی داده برای مدل\n",
        "# ==============================\n",
        "X = iris.drop('species', axis=1)  # ویژگی‌ها\n",
        "y = iris['species']               # برچسب‌ها\n",
        "\n",
        "# تقسیم داده به آموزش و تست\n",
        "X_train, X_test, y_train, y_test = train_test_split(X, y, test_size=0.2, random_state=42)\n",
        "\n",
        "# نرمال‌سازی داده‌ها (خیلی مهم برای الگوریتم‌های مبتنی بر فاصله)\n",
        "scaler = StandardScaler()\n",
        "X_train = scaler.fit_transform(X_train)\n",
        "X_test = scaler.transform(X_test)\n",
        "\n",
        "# ==============================\n",
        "# 🧠 مرحله 6: ساخت مدل KNN\n",
        "# ==============================\n",
        "knn = KNeighborsClassifier(n_neighbors=5)\n",
        "knn.fit(X_train, y_train)\n",
        "\n",
        "# پیش‌بینی روی داده تست\n",
        "y_pred = knn.predict(X_test)\n",
        "\n",
        "# ==============================\n",
        "# 📊 مرحله 7: ارزیابی مدل\n",
        "# ==============================\n",
        "print(\"\\n🎯 دقت مدل KNN:\", round(accuracy_score(y_test, y_pred), 3))\n",
        "print(\"\\n📉 ماتریس درهم‌ریختگی (Confusion Matrix):\")\n",
        "print(confusion_matrix(y_test, y_pred))\n",
        "\n",
        "print(\"\\n📋 گزارش طبقه‌بندی (Classification Report):\")\n",
        "print(classification_report(y_test, y_pred))\n",
        "\n",
        "# ==============================\n",
        "# 🎉 پایان\n",
        "# ==============================\n",
        "print(\"\\n✅ مدل با موفقیت آموزش داده شد و ارزیابی شد!\")"
      ],
      "metadata": {
        "id": "OhHmLkJI-1Xe"
      },
      "execution_count": null,
      "outputs": []
    },
    {
      "cell_type": "code",
      "execution_count": null,
      "metadata": {
        "id": "dO8TVhdI-xNO"
      },
      "outputs": [],
      "source": []
    }
  ]
}